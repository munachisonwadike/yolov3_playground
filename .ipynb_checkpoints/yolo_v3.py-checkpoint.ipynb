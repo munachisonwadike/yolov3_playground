{
 "cells": [
  {
   "cell_type": "code",
   "execution_count": null,
   "metadata": {},
   "outputs": [],
   "source": [
    "import tensorflow as tf\n",
    "slim = tf.contrib.slim"
   ]
  },
  {
   "cell_type": "code",
   "execution_count": null,
   "metadata": {},
   "outputs": [],
   "source": [
    "_BATCH_NORM_DECAY = 0.9\n",
    "_BATCH_NORM_EPSILON = 1e-0.5\n",
    "_LEAKY_RELU = 0.1\n",
    "\n",
    "# transpose the inputs to NCHW\n",
    "if data_format == 'NCHW':\n",
    "    inputs = tf.transpose(inputs, [0, 3, 1, 2])\n",
    "\n",
    "# normalize values to range [0..1]\n",
    "inputs = inputs / 255\n",
    "\n",
    "# set batch norm params\n",
    "batch_norm_params = {\n",
    "    'decay': _BATCH_NORM_DECAY,\n",
    "    'epsilon': _BATCH_NORM_EPSILON,\n",
    "    'scale': True,\n",
    "    'is_training': is_training,\n",
    "    'fused': None,  # Use fused batch norm if possible.\n",
    "}\n",
    "\n",
    "# Set activation_fn and parameters for conv2d, batch_norm.\n",
    "with slim.arg_scope([slim.conv2d, slim.batch_norm, _fixed_padding], data_format=data_format, reuse=reuse):\n",
    "    \n",
    "    with slim.arg_scope([slim.conv2d], normalizer_fn=slim.batch_norm, normalizer_params=batch_norm_params,\n",
    "                        biases_initializer=None, activation_fn=lambda x: tf.nn.leaky_relu(x, alpha=_LEAKY_RELU)):\n",
    "        \n",
    "        with tf.variable_scope('darknet-53'):\n",
    "            inputs = darknet53(inputs)"
   ]
  },
  {
   "cell_type": "code",
   "execution_count": null,
   "metadata": {},
   "outputs": [],
   "source": [
    "@tf.contrib.framework.add_arg_scope\n",
    "def _fixed_padding(inputs, kernel_size, *args, mode='CONSTANT', **kwargs):\n",
    "    \"\"\"\n",
    "    Pads the input along the spatial dimensions independently of input size.\n",
    "\n",
    "    Args:\n",
    "      inputs: A tensor of size [batch, channels, height_in, width_in] or\n",
    "        [batch, height_in, width_in, channels] depending on data_format.\n",
    "      kernel_size: The kernel to be used in the conv2d or max_pool2d operation.\n",
    "                   Should be a positive integer.\n",
    "      data_format: The input format ('NHWC' or 'NCHW').\n",
    "      mode: The mode for tf.pad.\n",
    "\n",
    "    Returns:\n",
    "      A tensor with the same format as the input with the data either intact\n",
    "      (if kernel_size == 1) or padded (if kernel_size > 1).\n",
    "    \"\"\"\n",
    "    pad_total = kernel_size - 1\n",
    "    pad_beg = pad_total // 2\n",
    "    pad_end = pad_total - pad_beg\n",
    "\n",
    "    if kwargs['data_format'] == 'NCHW':\n",
    "        padded_inputs = tf.pad(inputs, [[0, 0], [0, 0],\n",
    "                                        [pad_beg, pad_end], [pad_beg, pad_end]], mode=mode)\n",
    "    else:\n",
    "        padded_inputs = tf.pad(inputs, [[0, 0], [pad_beg, pad_end],\n",
    "                                        [pad_beg, pad_end], [0, 0]], mode=mode)\n",
    "    return padded_inputs"
   ]
  },
  {
   "cell_type": "code",
   "execution_count": null,
   "metadata": {},
   "outputs": [],
   "source": [
    "def darknet53(inputs):\n",
    "    \"\"\"\n",
    "    Builds darknet model\n",
    "    \"\"\"\n",
    "    pass\n",
    "\n",
    "def yolo_v3(inputs, num_classes, is_training=False, data_format='NCHW', reuse=False )\n",
    "    \"\"\"\n",
    "    Creates YOLO v3 model.\n",
    "    \n",
    "    :param inputs: a 4-D tensor of size [batch_size, height, width, channel].\n",
    "        Dimension batch_size may be undefined\n",
    "    :param num_classes: number of predicted classes\n",
    "    :param is_training: whether is training or not\n",
    "    :param data_format: data format NCHW or NHWC\n",
    "    :param reuse: whether or not the network and its variables should be reused\n",
    "    :return:\n",
    "    \"\"\"\n",
    "    pass\n",
    "\n",
    "def load_weights(var_list, weights_file):\n",
    "    \"\"\"\n",
    "    Loads and converts pre-trained weights\n",
    "    :param var_list: list of network variables\n",
    "    :param weights_file: name of the binary file\n",
    "    :return:\n",
    "    \"\"\"\n",
    "    pass\n",
    "\n"
   ]
  }
 ],
 "metadata": {
  "kernelspec": {
   "display_name": "Python 3",
   "language": "python",
   "name": "python3"
  },
  "language_info": {
   "codemirror_mode": {
    "name": "ipython",
    "version": 3
   },
   "file_extension": ".py",
   "mimetype": "text/x-python",
   "name": "python",
   "nbconvert_exporter": "python",
   "pygments_lexer": "ipython3",
   "version": "3.7.1"
  }
 },
 "nbformat": 4,
 "nbformat_minor": 2
}
